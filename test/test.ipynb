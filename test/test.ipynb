{
 "cells": [
  {
   "cell_type": "code",
   "execution_count": 1,
   "id": "b40c7305",
   "metadata": {},
   "outputs": [
    {
     "name": "stdout",
     "output_type": "stream",
     "text": [
      "Requirement already satisfied: selenium in c:\\users\\rehan\\anaconda3\\envs\\venv\\lib\\site-packages (4.36.0)\n",
      "Requirement already satisfied: urllib3<3.0,>=2.5.0 in c:\\users\\rehan\\anaconda3\\envs\\venv\\lib\\site-packages (from urllib3[socks]<3.0,>=2.5.0->selenium) (2.5.0)\n",
      "Requirement already satisfied: trio<1.0,>=0.30.0 in c:\\users\\rehan\\anaconda3\\envs\\venv\\lib\\site-packages (from selenium) (0.31.0)\n",
      "Requirement already satisfied: trio-websocket<1.0,>=0.12.2 in c:\\users\\rehan\\anaconda3\\envs\\venv\\lib\\site-packages (from selenium) (0.12.2)\n",
      "Requirement already satisfied: certifi>=2025.6.15 in c:\\users\\rehan\\anaconda3\\envs\\venv\\lib\\site-packages (from selenium) (2025.10.5)\n",
      "Requirement already satisfied: typing_extensions<5.0,>=4.14.0 in c:\\users\\rehan\\anaconda3\\envs\\venv\\lib\\site-packages (from selenium) (4.15.0)\n",
      "Requirement already satisfied: websocket-client<2.0,>=1.8.0 in c:\\users\\rehan\\anaconda3\\envs\\venv\\lib\\site-packages (from selenium) (1.8.0)\n",
      "Requirement already satisfied: attrs>=23.2.0 in c:\\users\\rehan\\anaconda3\\envs\\venv\\lib\\site-packages (from trio<1.0,>=0.30.0->selenium) (24.3.0)\n",
      "Requirement already satisfied: sortedcontainers in c:\\users\\rehan\\anaconda3\\envs\\venv\\lib\\site-packages (from trio<1.0,>=0.30.0->selenium) (2.4.0)\n",
      "Requirement already satisfied: idna in c:\\users\\rehan\\anaconda3\\envs\\venv\\lib\\site-packages (from trio<1.0,>=0.30.0->selenium) (3.7)\n",
      "Requirement already satisfied: outcome in c:\\users\\rehan\\anaconda3\\envs\\venv\\lib\\site-packages (from trio<1.0,>=0.30.0->selenium) (1.3.0.post0)\n",
      "Requirement already satisfied: sniffio>=1.3.0 in c:\\users\\rehan\\anaconda3\\envs\\venv\\lib\\site-packages (from trio<1.0,>=0.30.0->selenium) (1.3.0)\n",
      "Requirement already satisfied: cffi>=1.14 in c:\\users\\rehan\\anaconda3\\envs\\venv\\lib\\site-packages (from trio<1.0,>=0.30.0->selenium) (1.17.1)\n",
      "Requirement already satisfied: wsproto>=0.14 in c:\\users\\rehan\\anaconda3\\envs\\venv\\lib\\site-packages (from trio-websocket<1.0,>=0.12.2->selenium) (1.2.0)\n",
      "Requirement already satisfied: pysocks!=1.5.7,<2.0,>=1.5.6 in c:\\users\\rehan\\anaconda3\\envs\\venv\\lib\\site-packages (from urllib3[socks]<3.0,>=2.5.0->selenium) (1.7.1)\n",
      "Requirement already satisfied: pycparser in c:\\users\\rehan\\anaconda3\\envs\\venv\\lib\\site-packages (from cffi>=1.14->trio<1.0,>=0.30.0->selenium) (2.21)\n",
      "Requirement already satisfied: h11<1,>=0.9.0 in c:\\users\\rehan\\anaconda3\\envs\\venv\\lib\\site-packages (from wsproto>=0.14->trio-websocket<1.0,>=0.12.2->selenium) (0.16.0)\n",
      "Note: you may need to restart the kernel to use updated packages.\n"
     ]
    }
   ],
   "source": [
    "pip install selenium"
   ]
  },
  {
   "cell_type": "code",
   "execution_count": 7,
   "id": "0f565d8c",
   "metadata": {},
   "outputs": [],
   "source": [
    "# ✅ SETUP CELL — creates a Chrome driver\n",
    "from selenium import webdriver\n",
    "from selenium.webdriver.chrome.service import Service\n",
    "from selenium.webdriver.chrome.options import Options\n",
    "\n",
    "def create_driver():\n",
    "    path = r\"C:\\webdrivers\\chromedriver.exe\"  # adjust path if needed\n",
    "    options = Options()\n",
    "    options.add_argument(\"--start-maximized\")\n",
    "    driver = webdriver.Chrome(service=Service(path), options=options)\n",
    "    driver.implicitly_wait(10)\n",
    "    return driver\n"
   ]
  },
  {
   "cell_type": "code",
   "execution_count": 5,
   "id": "27b321e7",
   "metadata": {},
   "outputs": [
    {
     "name": "stdout",
     "output_type": "stream",
     "text": [
      "✅ Homepage loaded successfully!\n"
     ]
    }
   ],
   "source": [
    "driver.get(\"http://localhost:5173\")\n",
    "time.sleep(2)\n",
    "\n",
    "assert \"Bangladesh\" in driver.page_source or \"SourceBd\" in driver.title\n",
    "print(\"✅ Homepage loaded successfully!\")\n"
   ]
  },
  {
   "cell_type": "code",
   "execution_count": 9,
   "id": "529c1732",
   "metadata": {},
   "outputs": [
    {
     "name": "stdout",
     "output_type": "stream",
     "text": [
      "✅ Homepage opened successfully: Vite + React\n",
      "🧭 Scrolled through homepage successfully\n",
      "🔘 Found 6 buttons and 16 links on the page\n",
      "   → Button text: \n",
      "   → Button text: \n",
      "   → Button text: \n",
      "   → Button text: \n",
      "   → Button text: \n",
      "   → Link text: Source\n",
      "Bd\n",
      "   → Link text: Sign In\n",
      "   → Link text: \n",
      "   → Link text: About Us\n",
      "   → Link text: Contact\n",
      "🖱️ Clicking link: Source\n",
      "Bd\n",
      "✅ Homepage visual test completed and browser closed\n"
     ]
    }
   ],
   "source": [
    "# ✅ ADVANCED HOMEPAGE TEST — with scroll, link and button checks\n",
    "from selenium.webdriver.common.by import By\n",
    "from selenium.webdriver.common.action_chains import ActionChains\n",
    "from selenium.webdriver.common.keys import Keys\n",
    "import time\n",
    "\n",
    "driver = create_driver()\n",
    "driver.get(\"http://localhost:5173\")\n",
    "driver.set_window_size(1280, 900)\n",
    "\n",
    "print(\"✅ Homepage opened successfully:\", driver.title)\n",
    "time.sleep(2)\n",
    "\n",
    "# --- Step 1: Scroll gradually to bottom to visually check content ---\n",
    "for _ in range(3):  # scroll 3 times\n",
    "    driver.find_element(By.TAG_NAME, 'body').send_keys(Keys.PAGE_DOWN)\n",
    "    time.sleep(1)\n",
    "print(\"🧭 Scrolled through homepage successfully\")\n",
    "\n",
    "# --- Step 2: Check if key buttons or links exist ---\n",
    "buttons = driver.find_elements(By.TAG_NAME, \"button\")\n",
    "links = driver.find_elements(By.TAG_NAME, \"a\")\n",
    "\n",
    "print(f\"🔘 Found {len(buttons)} buttons and {len(links)} links on the page\")\n",
    "\n",
    "# Print a few visible ones\n",
    "for btn in buttons[:5]:\n",
    "    print(\"   → Button text:\", btn.text.strip())\n",
    "\n",
    "for link in links[:5]:\n",
    "    print(\"   → Link text:\", link.text.strip())\n",
    "\n",
    "# --- Step 3: Try clicking a visible link (like 'Shop Now' or first category) ---\n",
    "clicked = False\n",
    "for link in links:\n",
    "    if link.is_displayed() and link.text.strip():\n",
    "        try:\n",
    "            print(f\"🖱️ Clicking link: {link.text}\")\n",
    "            link.click()\n",
    "            clicked = True\n",
    "            break\n",
    "        except Exception as e:\n",
    "            print(\"⚠️ Failed to click link:\", e)\n",
    "    time.sleep(1)\n",
    "\n",
    "if not clicked:\n",
    "    print(\"⚠️ No clickable visible link found\")\n",
    "\n",
    "# --- Step 4: Wait for a few seconds to visually verify ---\n",
    "time.sleep(3)\n",
    "\n",
    "# Optional: take a screenshot\n",
    "driver.save_screenshot(\"homepage_visual_test.png\")\n",
    "\n",
    "driver.quit()\n",
    "print(\"✅ Homepage visual test completed and browser closed\")\n"
   ]
  },
  {
   "cell_type": "code",
   "execution_count": 22,
   "id": "900f808b",
   "metadata": {},
   "outputs": [
    {
     "name": "stdout",
     "output_type": "stream",
     "text": [
      "🧭 Current URL after click: http://localhost:5173/login\n",
      "⚠️ Redirected to login page — performing login first\n",
      "🖱️ Clicked Sign In button\n",
      "✅ Login submitted, waiting for redirect…\n",
      "✅ Logged in and added product to cart successfully\n",
      "✅ Browser closed after product test\n"
     ]
    }
   ],
   "source": [
    "# ✅ SMART PRODUCT ADD-TO-CART TEST (handles login redirect)\n",
    "from selenium.webdriver.common.by import By\n",
    "import time\n",
    "\n",
    "driver = create_driver()\n",
    "driver.get(\"http://localhost:5173/product/68ea95bd2ca3ae3445e38ea7\")  # change ID if needed\n",
    "driver.set_window_size(1280, 900)\n",
    "\n",
    "time.sleep(2)\n",
    "\n",
    "try:\n",
    "    add_btn = driver.find_element(By.XPATH, \"//button[contains(., 'Add to Cart')]\")\n",
    "    add_btn.click()\n",
    "    time.sleep(2)\n",
    "\n",
    "    current_url = driver.current_url\n",
    "    print(\"🧭 Current URL after click:\", current_url)\n",
    "\n",
    "    # --- Check if redirected to login ---\n",
    "    if \"login\" in current_url.lower():\n",
    "        print(\"⚠️ Redirected to login page — performing login first\")\n",
    "\n",
    "        # Fill credentials\n",
    "        driver.find_element(By.ID, \"email\").send_keys(\"rehanahmed2404@gmail.com\")\n",
    "        driver.find_element(By.ID, \"password\").send_keys(\"87654321\")\n",
    "\n",
    "        # Click the \"Sign In\" button using JS to ensure React receives it\n",
    "        sign_in_btn = driver.find_element(\n",
    "            By.XPATH, \"//form//button[@type='submit' and (normalize-space()='Sign In' or contains(., 'Sign In'))]\"\n",
    "        )\n",
    "        driver.execute_script(\"arguments[0].click();\", sign_in_btn)\n",
    "        print(\"🖱️ Clicked Sign In button\")\n",
    "\n",
    "        time.sleep(4)\n",
    "        print(\"✅ Login submitted, waiting for redirect…\")\n",
    "\n",
    "        # Go back to product page and retry Add to Cart\n",
    "        driver.get(\"http://localhost:5173/product/68ea95bd2ca3ae3445e38ea7\")\n",
    "        time.sleep(2)\n",
    "        driver.find_element(By.XPATH, \"//button[contains(., 'Add to Cart')]\").click()\n",
    "        print(\"✅ Logged in and added product to cart successfully\")\n",
    "\n",
    "    else:\n",
    "        print(\"✅ Product added to cart successfully (no login needed)\")\n",
    "\n",
    "except Exception as e:\n",
    "    print(\"❌ Error during Add to Cart:\", e)\n",
    "\n",
    "time.sleep(3)\n",
    "driver.quit()\n",
    "print(\"✅ Browser closed after product test\")\n"
   ]
  }
 ],
 "metadata": {
  "kernelspec": {
   "display_name": "venv",
   "language": "python",
   "name": "python3"
  },
  "language_info": {
   "codemirror_mode": {
    "name": "ipython",
    "version": 3
   },
   "file_extension": ".py",
   "mimetype": "text/x-python",
   "name": "python",
   "nbconvert_exporter": "python",
   "pygments_lexer": "ipython3",
   "version": "3.13.5"
  }
 },
 "nbformat": 4,
 "nbformat_minor": 5
}
